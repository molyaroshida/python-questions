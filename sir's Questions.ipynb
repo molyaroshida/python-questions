{
 "cells": [
  {
   "cell_type": "markdown",
   "id": "85d353d2",
   "metadata": {},
   "source": [
    "# Questions on For Loop\n",
    "#Question 1: Print Even Numbers Write a program that prints all even numbers between 1 and 20.\n",
    "\n"
   ]
  },
  {
   "cell_type": "code",
   "execution_count": 4,
   "id": "925ede9f",
   "metadata": {},
   "outputs": [
    {
     "name": "stdout",
     "output_type": "stream",
     "text": [
      "2\n",
      "4\n",
      "6\n",
      "8\n",
      "10\n",
      "12\n",
      "14\n",
      "16\n",
      "18\n",
      "20\n"
     ]
    }
   ],
   "source": [
    "for i in range(1,21):\n",
    "    if i%2==0:\n",
    "        print(i)"
   ]
  },
  {
   "cell_type": "code",
   "execution_count": 69,
   "id": "f651238a",
   "metadata": {},
   "outputs": [
    {
     "name": "stdout",
     "output_type": "stream",
     "text": [
      "Enter the number that you want to factorise : 5\n",
      "The factorial of  5  is 1\n"
     ]
    }
   ],
   "source": [
    "#Question 2: Calculate Factorial Write a program that calculates the factorial of a given positive integer.\n",
    "fact = 1\n",
    "num = int(input(\"Enter the number that you want to factorise : \"))\n",
    "org = num\n",
    "while num>0:\n",
    "    fact = fact = num\n",
    "    num = num - 1\n",
    "print(\"The factorial of \",org,\" is\" , fact)    "
   ]
  },
  {
   "cell_type": "code",
   "execution_count": null,
   "id": "2202c886",
   "metadata": {},
   "outputs": [],
   "source": []
  },
  {
   "cell_type": "code",
   "execution_count": null,
   "id": "36cb8860",
   "metadata": {},
   "outputs": [],
   "source": [
    "#Question 3: Print Multiplication Table Write a program that takes an \n",
    "    #integer as input and prints its multiplication table up to 10"
   ]
  },
  {
   "cell_type": "code",
   "execution_count": 14,
   "id": "639ab07e",
   "metadata": {},
   "outputs": [
    {
     "name": "stdout",
     "output_type": "stream",
     "text": [
      "multiplication table : 9\n"
     ]
    }
   ],
   "source": [
    "n = int(input(\"multiplication table : \"))"
   ]
  },
  {
   "cell_type": "code",
   "execution_count": 21,
   "id": "a50fcd32",
   "metadata": {},
   "outputs": [
    {
     "name": "stdout",
     "output_type": "stream",
     "text": [
      " 9 * 1 = 9\n",
      " 9 * 2 = 18\n",
      " 9 * 3 = 27\n",
      " 9 * 4 = 36\n",
      " 9 * 5 = 45\n",
      " 9 * 6 = 54\n",
      " 9 * 7 = 63\n",
      " 9 * 8 = 72\n",
      " 9 * 9 = 81\n",
      " 9 * 10 = 90\n"
     ]
    }
   ],
   "source": [
    "for i in range(1,11):\n",
    "    print(\" {} * {} = {}\".format(n,i, n*i))\n",
    "    "
   ]
  },
  {
   "cell_type": "code",
   "execution_count": 25,
   "id": "bec36e12",
   "metadata": {},
   "outputs": [
    {
     "name": "stdout",
     "output_type": "stream",
     "text": [
      "multiplication table : 13\n"
     ]
    }
   ],
   "source": [
    "t = int(input(\"multiplication table : \"))"
   ]
  },
  {
   "cell_type": "code",
   "execution_count": 26,
   "id": "5e94a8fa",
   "metadata": {},
   "outputs": [
    {
     "name": "stdout",
     "output_type": "stream",
     "text": [
      "13 * 1 =13\n",
      "13 * 2 =26\n",
      "13 * 3 =39\n",
      "13 * 4 =52\n",
      "13 * 5 =65\n",
      "13 * 6 =78\n",
      "13 * 7 =91\n",
      "13 * 8 =104\n",
      "13 * 9 =117\n",
      "13 * 10 =130\n",
      "all done\n"
     ]
    }
   ],
   "source": [
    "for i in range(1,11):\n",
    "    print(\"{} * {} ={}\".format(t, i, t*i))               \n",
    "else:\n",
    "    print(\"all done\")"
   ]
  },
  {
   "cell_type": "code",
   "execution_count": 68,
   "id": "fe56d73e",
   "metadata": {},
   "outputs": [
    {
     "name": "stdout",
     "output_type": "stream",
     "text": [
      "Enter the number that you want to factorise : 5\n",
      "The factorial of  5  is 1\n"
     ]
    }
   ],
   "source": [
    "#Question 4: Calculate Sum of Digits Write a program that calculates the sum of the digits of a given number.\n",
    "\n"
   ]
  },
  {
   "cell_type": "code",
   "execution_count": 31,
   "id": "f8aab3f5",
   "metadata": {},
   "outputs": [
    {
     "name": "stdout",
     "output_type": "stream",
     "text": [
      " enter the sum of digits : 10\n"
     ]
    }
   ],
   "source": [
    "sum_ = int(input(\" enter the sum of digits : \") )"
   ]
  },
  {
   "cell_type": "code",
   "execution_count": 96,
   "id": "59aa4603",
   "metadata": {},
   "outputs": [
    {
     "name": "stdout",
     "output_type": "stream",
     "text": [
      "Enter the first number \n",
      "54\n",
      "Enter the first number \n",
      "65\n",
      "sum of these two numbers are 119\n"
     ]
    }
   ],
   "source": [
    "\n",
    "print(\"Enter the first number \")\n",
    "n1 = input()\n",
    "print(\"Enter the first number \")\n",
    "n2 = input()\n",
    "print(\"sum of these two numbers are\", int(n1) + int(n2))\n",
    "    "
   ]
  },
  {
   "cell_type": "code",
   "execution_count": null,
   "id": "dda39aa9",
   "metadata": {},
   "outputs": [],
   "source": [
    "#Question 5: Calculate Fibonacci Series Write a program that generates the Fibonacci series up to a given number of terms."
   ]
  },
  {
   "cell_type": "code",
   "execution_count": null,
   "id": "1aea69dc",
   "metadata": {},
   "outputs": [],
   "source": []
  },
  {
   "cell_type": "markdown",
   "id": "377afe07",
   "metadata": {},
   "source": [
    "# pattern printing"
   ]
  },
  {
   "cell_type": "code",
   "execution_count": 12,
   "id": "eda89cea",
   "metadata": {},
   "outputs": [
    {
     "name": "stdout",
     "output_type": "stream",
     "text": [
      "enter your number: 6\n",
      "1\n",
      "12\n",
      "123\n",
      "1234\n",
      "12345\n"
     ]
    }
   ],
   "source": [
    "#Question 3: Right Triangle Number Pattern\n",
    "#Write a program to print a right triangle number pattern\n",
    "\n",
    "1\n",
    "12\n",
    "123\n",
    "1234\n",
    "12345\n",
    "\n",
    "n = int(input(\"enter your number: \"))\n",
    "for i in range(1,6):\n",
    "    for j in range(1,i+1):\n",
    "        print(j,end=\"\")\n",
    "    print()"
   ]
  },
  {
   "cell_type": "code",
   "execution_count": 79,
   "id": "c4f88660",
   "metadata": {},
   "outputs": [
    {
     "name": "stdout",
     "output_type": "stream",
     "text": [
      "enter youe number: 5\n"
     ]
    }
   ],
   "source": [
    "n = int(input(\"enter youe number: \"))"
   ]
  },
  {
   "cell_type": "code",
   "execution_count": 80,
   "id": "6d6a8d57",
   "metadata": {},
   "outputs": [
    {
     "name": "stdout",
     "output_type": "stream",
     "text": [
      "*****\n",
      "****\n",
      "***\n",
      "**\n",
      "*\n"
     ]
    }
   ],
   "source": [
    "for i in range(n, 0, -1):                 \n",
    "    print(\"*\"*i)                     \n",
    "                       "
   ]
  },
  {
   "cell_type": "code",
   "execution_count": 71,
   "id": "24f16311",
   "metadata": {},
   "outputs": [
    {
     "name": "stdout",
     "output_type": "stream",
     "text": [
      "enter your number: 5\n",
      "0 \n",
      "1 2 \n",
      "3 4 5 \n",
      "6 7 8 9 \n"
     ]
    }
   ],
   "source": [
    "n = int(input(\"enter your number: \"))\n",
    "l = 0\n",
    "for i in range(1,5):\n",
    "    for j in range(1,i+1):\n",
    "        print((l),end=\" \")\n",
    "        l=l+1\n",
    "    print()\n",
    "\n",
    "    "
   ]
  },
  {
   "cell_type": "code",
   "execution_count": 65,
   "id": "fe752748",
   "metadata": {},
   "outputs": [
    {
     "ename": "SyntaxError",
     "evalue": "invalid non-printable character U+00A0 (1887739951.py, line 6)",
     "output_type": "error",
     "traceback": [
      "\u001b[1;36m  Cell \u001b[1;32mIn[65], line 6\u001b[1;36m\u001b[0m\n\u001b[1;33m    *   *\u001b[0m\n\u001b[1;37m     ^\u001b[0m\n\u001b[1;31mSyntaxError\u001b[0m\u001b[1;31m:\u001b[0m invalid non-printable character U+00A0\n"
     ]
    }
   ],
   "source": [
    "#Question 2: Hollow Square Pattern\n",
    "#Write a program to print a hollow square pattern of asterisks (*) with a side length of 5.\n",
    "\n",
    "*****\n",
    "*   *\n",
    "*   *\n",
    "*   *\n",
    "*****"
   ]
  },
  {
   "cell_type": "code",
   "execution_count": 71,
   "id": "15bba8e3",
   "metadata": {},
   "outputs": [
    {
     "name": "stdout",
     "output_type": "stream",
     "text": [
      "enter the number for ros and col: 5\n",
      "* * * * * \n",
      "*       * \n",
      "*       * \n",
      "*       * \n",
      "* * * * * \n"
     ]
    }
   ],
   "source": [
    "num = int(input(\"enter the number for ros and col: \"))\n",
    "\n",
    "for i in range(num):\n",
    "    for j in range(num):\n",
    "        if i ==0 or i == num-1 or j ==0 or j==num-1:\n",
    "            print(\"*\",end=\" \")\n",
    "        else:\n",
    "            print(\" \", end=\" \")\n",
    "    print()       "
   ]
  },
  {
   "cell_type": "code",
   "execution_count": null,
   "id": "d3f0b421",
   "metadata": {},
   "outputs": [],
   "source": [
    "#Example 9: Divisibility Check\n",
    "#Write a program that checks if a number is divisible by both 3 and 5, only by 3, only by 5, or not by either."
   ]
  },
  {
   "cell_type": "code",
   "execution_count": 103,
   "id": "d879a62c",
   "metadata": {},
   "outputs": [
    {
     "name": "stdout",
     "output_type": "stream",
     "text": [
      "30\n",
      "num is divisible by both 5 & 3\n"
     ]
    }
   ],
   "source": [
    "num = int(input())\n",
    "if num%3==0 and num%5==0:\n",
    "    print('num is divisible by both 5 & 3')\n",
    "elif num%3==0 and num%5!=0:\n",
    "    print('num is divisible by 3')\n",
    "elif num%3!=0 and num%5==0:\n",
    "    print('num is divisible by 5')\n",
    "else:\n",
    "    print('num is not divisible')"
   ]
  },
  {
   "cell_type": "code",
   "execution_count": 107,
   "id": "767152e3",
   "metadata": {},
   "outputs": [
    {
     "name": "stdout",
     "output_type": "stream",
     "text": [
      "0 1 2 3 4 5 6 7 8 9 10 11 12 13 14 \n"
     ]
    }
   ],
   "source": [
    "l= 0\n",
    "for i in range(1,6):\n",
    "    for j in range(1,i+1):\n",
    "        print(l,end=\" \")\n",
    "        l+=1\n",
    "print()"
   ]
  },
  {
   "cell_type": "code",
   "execution_count": null,
   "id": "8b0cbfbb",
   "metadata": {},
   "outputs": [],
   "source": []
  },
  {
   "cell_type": "markdown",
   "id": "8cab6c5b",
   "metadata": {},
   "source": [
    "# strings questions"
   ]
  },
  {
   "cell_type": "markdown",
   "id": "af5cf63e",
   "metadata": {},
   "source": [
    "# Question: Counting Vowels and Consonants\n",
    "Write a Python function that takes a string as input and returns the count of vowels \n",
    "and consonants in the string.\n",
    "Consider that the input string will only contain alphabetic characters and no spaces.\n"
   ]
  },
  {
   "cell_type": "code",
   "execution_count": 46,
   "id": "9c0a063c",
   "metadata": {},
   "outputs": [
    {
     "name": "stdout",
     "output_type": "stream",
     "text": [
      "Enter any strings : orange\n"
     ]
    }
   ],
   "source": [
    "a = input(\"Enter any strings : \")"
   ]
  },
  {
   "cell_type": "code",
   "execution_count": 48,
   "id": "efea0268",
   "metadata": {},
   "outputs": [
    {
     "name": "stdout",
     "output_type": "stream",
     "text": [
      "Total vowel= 3\n",
      "Toatl cons= 0\n"
     ]
    }
   ],
   "source": [
    "vowel = 0\n",
    "cons = 0\n",
    "for i in range(0,len(a)):\n",
    "    if(a[i]!=''):\n",
    "        if(a[i]==\"a\" or a[i]==\"e\" or a[i]==\"i\" or a[i]==\"o\"\n",
    "           or a[i]==\"u\" or a[i]==\"A\" or a[i]==\"E\" or a[i]==\"I \" or\n",
    "          a[i]==\"U\"):\n",
    "            vowel = vowel+1\n",
    "    else:\n",
    "        print(\"cons==cons+1\")\n",
    "\n",
    "        \n",
    "print(\"Total vowel=\", vowel) \n",
    "print(\"Toatl cons=\", cons)\n"
   ]
  },
  {
   "cell_type": "code",
   "execution_count": null,
   "id": "6abcf27c",
   "metadata": {},
   "outputs": [],
   "source": []
  },
  {
   "cell_type": "markdown",
   "id": "c0a02469",
   "metadata": {},
   "source": [
    "# Question 1: Reversing a String\n",
    "Write a Python function to reverse a given string.\n",
    "\n"
   ]
  },
  {
   "cell_type": "code",
   "execution_count": 32,
   "id": "a8ed3621",
   "metadata": {},
   "outputs": [],
   "source": [
    "s = \"hello world\""
   ]
  },
  {
   "cell_type": "code",
   "execution_count": 39,
   "id": "5b4b230f",
   "metadata": {},
   "outputs": [
    {
     "data": {
      "text/plain": [
       "'dlrow olleh'"
      ]
     },
     "execution_count": 39,
     "metadata": {},
     "output_type": "execute_result"
    }
   ],
   "source": [
    "s[-1::-1]"
   ]
  },
  {
   "cell_type": "code",
   "execution_count": null,
   "id": "560261a2",
   "metadata": {},
   "outputs": [],
   "source": []
  },
  {
   "cell_type": "markdown",
   "id": "c3d78416",
   "metadata": {},
   "source": [
    "# Question 2: Palindrome Check\n",
    "Write a Python function that checks if a given string is a palindrome \n",
    "(reads the same forwards and backwards).\n"
   ]
  },
  {
   "cell_type": "code",
   "execution_count": 29,
   "id": "09979a4c",
   "metadata": {},
   "outputs": [
    {
     "name": "stdout",
     "output_type": "stream",
     "text": [
      "Enter any strings : tuli\n"
     ]
    }
   ],
   "source": [
    "strings = input(\"Enter any strings : \")"
   ]
  },
  {
   "cell_type": "code",
   "execution_count": 30,
   "id": "067f3186",
   "metadata": {},
   "outputs": [
    {
     "name": "stdout",
     "output_type": "stream",
     "text": [
      " it is not palindrome string\n"
     ]
    }
   ],
   "source": [
    " palin= strings[-1::-1]\n",
    "if(strings==palin):\n",
    "    print(\"it is palindrome string\")\n",
    "else :\n",
    "    print(\" it is not palindrome string\")"
   ]
  },
  {
   "cell_type": "code",
   "execution_count": 37,
   "id": "89d07329",
   "metadata": {},
   "outputs": [
    {
     "name": "stdout",
     "output_type": "stream",
     "text": [
      "Enter any strings : tuli\n"
     ]
    }
   ],
   "source": [
    "h = input(\"Enter any strings : \")"
   ]
  },
  {
   "cell_type": "code",
   "execution_count": 38,
   "id": "28193d7f",
   "metadata": {},
   "outputs": [
    {
     "name": "stdout",
     "output_type": "stream",
     "text": [
      "no the given string is not palindrome tuli\n"
     ]
    }
   ],
   "source": [
    "start = 0 \n",
    "end = len(h) - 1\n",
    "is_palindrome = True\n",
    "\n",
    "\n",
    "while (start<= end):\n",
    "    if(h[start]!=h[end]):\n",
    "        is_palindrome = False\n",
    "        break\n",
    "    start+=1\n",
    "    end-=1\n",
    "    \n",
    "if is_palindrome:\n",
    "    print(f'yes given string is pailindrome {h}')\n",
    "else:\n",
    "    print(f'no the given string is not palindrome {h}')"
   ]
  },
  {
   "cell_type": "markdown",
   "id": "a3818e2a",
   "metadata": {},
   "source": [
    "# Question 3: Counting Character Frequencies\n",
    "Write a Python function that takes a string as input and returns a dictionary \n",
    "where keys are characters present in the string, \n",
    "and values are the frequencies of those characters.\n",
    "\n",
    "\n"
   ]
  },
  {
   "cell_type": "code",
   "execution_count": 72,
   "id": "600cb283",
   "metadata": {},
   "outputs": [],
   "source": [
    "#n = int(input(\"enter your number: \"))\n"
   ]
  },
  {
   "cell_type": "code",
   "execution_count": 73,
   "id": "166e68ae",
   "metadata": {},
   "outputs": [
    {
     "name": "stdout",
     "output_type": "stream",
     "text": [
      "0 \n",
      "1 2 \n",
      "3 4 5 \n",
      "6 7 8 9 \n"
     ]
    }
   ],
   "source": [
    "l = 0\n",
    "for i in range(1,5):\n",
    "    for j in range(1,i+1):\n",
    "        print(l,end=\" \")\n",
    "        l+=1\n",
    "    print(),"
   ]
  },
  {
   "cell_type": "code",
   "execution_count": 27,
   "id": "7fc68171",
   "metadata": {},
   "outputs": [],
   "source": [
    "g = [1,5,9,2,1,9,7,3,5,6,7,9,1,2,7,9,5,9]"
   ]
  },
  {
   "cell_type": "code",
   "execution_count": 28,
   "id": "29897146",
   "metadata": {},
   "outputs": [],
   "source": [
    "k=[]\n",
    "for i in g:\n",
    "    if i not in k:\n",
    "        k.append(i)"
   ]
  },
  {
   "cell_type": "code",
   "execution_count": 29,
   "id": "53ae8b38",
   "metadata": {},
   "outputs": [
    {
     "data": {
      "text/plain": [
       "[1, 5, 9, 2, 7, 3, 6]"
      ]
     },
     "execution_count": 29,
     "metadata": {},
     "output_type": "execute_result"
    }
   ],
   "source": [
    "k"
   ]
  },
  {
   "cell_type": "code",
   "execution_count": 30,
   "id": "bbe7ef6e",
   "metadata": {},
   "outputs": [
    {
     "data": {
      "text/plain": [
       "[1, 5, 9, 2, 1, 9, 7, 3, 5, 6, 7, 9, 1, 2, 7, 9, 5, 9]"
      ]
     },
     "execution_count": 30,
     "metadata": {},
     "output_type": "execute_result"
    }
   ],
   "source": [
    "g"
   ]
  },
  {
   "cell_type": "markdown",
   "id": "05d5621a",
   "metadata": {},
   "source": [
    "# list questions"
   ]
  },
  {
   "cell_type": "markdown",
   "id": "00fdea91",
   "metadata": {},
   "source": [
    "# Question 1: Finding the Maximum and Minimum\n",
    "Write a Python function that takes a list of numbers as input and\n",
    "returns the maximum and minimum values in the list.\n"
   ]
  },
  {
   "cell_type": "code",
   "execution_count": 1,
   "id": "1bf9da6f",
   "metadata": {},
   "outputs": [
    {
     "name": "stdout",
     "output_type": "stream",
     "text": [
      "Enter the size of the list: 8\n",
      "Enter the number4\n",
      "Enter the number6\n",
      "Enter the number8\n",
      "Enter the number3\n",
      "Enter the number4\n",
      "Enter the number2\n",
      "Enter the number9\n",
      "Enter the number3\n",
      "Max number= 9\n"
     ]
    }
   ],
   "source": [
    "a = []\n",
    "size = int(input(\"Enter the size of the list: \"))\n",
    "\n",
    "for i in range(size):\n",
    "    val = int(input(\"Enter the number\"))\n",
    "    a.append(val)\n",
    "max = a[0]\n",
    "for i in range(size):\n",
    "    if(a[i]>max):\n",
    "        max=a[i]\n",
    "print(\"Max number=\",max)        "
   ]
  },
  {
   "cell_type": "code",
   "execution_count": 34,
   "id": "39951f56",
   "metadata": {},
   "outputs": [
    {
     "name": "stdout",
     "output_type": "stream",
     "text": [
      "Enter the size of the list: 5\n",
      "Enter the number6\n",
      "Enter the number4\n",
      "Enter the number5\n",
      "Enter the number2\n",
      "Enter the number1\n",
      "Min number= 1\n"
     ]
    }
   ],
   "source": [
    "a = []\n",
    "size = int(input(\"Enter the size of the list: \"))\n",
    "\n",
    "for i in range(size):\n",
    "    val = int(input(\"Enter the number\"))\n",
    "    a.append(val)\n",
    "min = a[0]\n",
    "for i in range(size):\n",
    "    if(a[i]<min):\n",
    "        min=a[i]\n",
    "print(\"Min number=\",min)        "
   ]
  },
  {
   "cell_type": "markdown",
   "id": "a2e7f2ec",
   "metadata": {},
   "source": [
    "# Question 2: List Comprehension\n",
    "Write a Python program that takes a list of numbers and \n",
    "returns a new list containing only the even numbers from the original list.\n",
    "\n"
   ]
  },
  {
   "cell_type": "code",
   "execution_count": 35,
   "id": "b2231cf3",
   "metadata": {},
   "outputs": [],
   "source": [
    "# even list number"
   ]
  },
  {
   "cell_type": "code",
   "execution_count": 36,
   "id": "4a31325f",
   "metadata": {},
   "outputs": [
    {
     "name": "stdout",
     "output_type": "stream",
     "text": [
      "[2, 4, 6, 8, 10]\n",
      "[1, 3, 5, 7, 9]\n"
     ]
    }
   ],
   "source": [
    "new_list = []\n",
    "t = [1,2,3,4,5,6,7,8,9,10]\n",
    "even_list= [x for x in t if (x%2)==0]\n",
    "print (even_list)\n",
    "# odd list number\n",
    "odd_list= [x for x in t if (x%2)!=0]\n",
    "print(odd_list)"
   ]
  },
  {
   "cell_type": "markdown",
   "id": "15df1293",
   "metadata": {},
   "source": [
    "# Question 3: List Reversal\n",
    "Write a Python function that takes a list as \n",
    "input and returns a new list with the elements reversed."
   ]
  },
  {
   "cell_type": "markdown",
   "id": "db91b068",
   "metadata": {},
   "source": [
    "# Question 4: Removing Duplicates\n",
    "Write a Python function that takes a list as input and\n",
    "returns a new list with all the duplicates removed."
   ]
  },
  {
   "cell_type": "code",
   "execution_count": 37,
   "id": "591e8c07",
   "metadata": {},
   "outputs": [
    {
     "data": {
      "text/plain": [
       "[1, 2, 3, 4, 5, 6, 7, 8, 9, 10]"
      ]
     },
     "execution_count": 37,
     "metadata": {},
     "output_type": "execute_result"
    }
   ],
   "source": [
    "t\n"
   ]
  },
  {
   "cell_type": "code",
   "execution_count": 8,
   "id": "b7f007ee",
   "metadata": {},
   "outputs": [],
   "source": [
    "g = [1,5,6,8,6,5,2,4,3,9,2]"
   ]
  },
  {
   "cell_type": "code",
   "execution_count": 9,
   "id": "e4c7698a",
   "metadata": {},
   "outputs": [],
   "source": [
    "k=[]\n",
    "for i in g:\n",
    "    if i not in k:\n",
    "        k.append(i)"
   ]
  },
  {
   "cell_type": "code",
   "execution_count": 10,
   "id": "aa78067f",
   "metadata": {},
   "outputs": [
    {
     "data": {
      "text/plain": [
       "[1, 5, 6, 8, 2, 4, 3, 9]"
      ]
     },
     "execution_count": 10,
     "metadata": {},
     "output_type": "execute_result"
    }
   ],
   "source": [
    "k"
   ]
  },
  {
   "cell_type": "code",
   "execution_count": 5,
   "id": "bbd7992b",
   "metadata": {},
   "outputs": [
    {
     "name": "stdout",
     "output_type": "stream",
     "text": [
      "[1, 2, 3, 4, 5, 6, 8, 9]\n"
     ]
    }
   ],
   "source": [
    "g = [1,5,6,8,6,5,2,4,3,9,2]\n",
    "print(list(set(g)))"
   ]
  },
  {
   "cell_type": "code",
   "execution_count": null,
   "id": "46abeb29",
   "metadata": {},
   "outputs": [],
   "source": []
  }
 ],
 "metadata": {
  "kernelspec": {
   "display_name": "Python 3 (ipykernel)",
   "language": "python",
   "name": "python3"
  },
  "language_info": {
   "codemirror_mode": {
    "name": "ipython",
    "version": 3
   },
   "file_extension": ".py",
   "mimetype": "text/x-python",
   "name": "python",
   "nbconvert_exporter": "python",
   "pygments_lexer": "ipython3",
   "version": "3.10.9"
  }
 },
 "nbformat": 4,
 "nbformat_minor": 5
}
